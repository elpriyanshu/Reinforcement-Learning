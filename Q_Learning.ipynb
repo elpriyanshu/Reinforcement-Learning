{
  "cells": [
    {
      "cell_type": "code",
      "execution_count": 2,
      "metadata": {
        "id": "r0q3gc0cza6K"
      },
      "outputs": [],
      "source": [
        "import numpy as np"
      ]
    },
    {
      "cell_type": "code",
      "execution_count": 3,
      "metadata": {
        "id": "0TEAARXo2xj5"
      },
      "outputs": [],
      "source": [
        "R = np.matrix([[-1,-1,-1,-1,0,-1],\n",
        "               [-1,-1,-1,0,-1,100],\n",
        "               [-1,-1,-1,0,-1,-1],\n",
        "               [-1,0,0,-1,0,-1],\n",
        "               [-1,0,0,-1,-1,100],\n",
        "               [-1,0,-1,-1,0,100]])"
      ]
    },
    {
      "cell_type": "code",
      "execution_count": 4,
      "metadata": {
        "colab": {
          "base_uri": "https://localhost:8080/"
        },
        "id": "ZNrDi6Fs3OdY",
        "outputId": "3e1af7ff-d9f3-49b7-e8af-5cc2a840bee5"
      },
      "outputs": [
        {
          "data": {
            "text/plain": [
              "matrix([[ -1,  -1,  -1,  -1,   0,  -1],\n",
              "        [ -1,  -1,  -1,   0,  -1, 100],\n",
              "        [ -1,  -1,  -1,   0,  -1,  -1],\n",
              "        [ -1,   0,   0,  -1,   0,  -1],\n",
              "        [ -1,   0,   0,  -1,  -1, 100],\n",
              "        [ -1,   0,  -1,  -1,   0, 100]])"
            ]
          },
          "execution_count": 4,
          "metadata": {},
          "output_type": "execute_result"
        }
      ],
      "source": [
        "R"
      ]
    },
    {
      "cell_type": "code",
      "execution_count": 5,
      "metadata": {
        "id": "rXTUMMBp3Pbb"
      },
      "outputs": [],
      "source": [
        "Q = np.matrix(np.zeros([6,6]))"
      ]
    },
    {
      "cell_type": "code",
      "execution_count": 6,
      "metadata": {
        "colab": {
          "base_uri": "https://localhost:8080/"
        },
        "id": "TZFZDpOY4caM",
        "outputId": "edd44a76-3050-445d-feb9-f2e6fa7f399c"
      },
      "outputs": [
        {
          "data": {
            "text/plain": [
              "matrix([[0., 0., 0., 0., 0., 0.],\n",
              "        [0., 0., 0., 0., 0., 0.],\n",
              "        [0., 0., 0., 0., 0., 0.],\n",
              "        [0., 0., 0., 0., 0., 0.],\n",
              "        [0., 0., 0., 0., 0., 0.],\n",
              "        [0., 0., 0., 0., 0., 0.]])"
            ]
          },
          "execution_count": 6,
          "metadata": {},
          "output_type": "execute_result"
        }
      ],
      "source": [
        "Q"
      ]
    },
    {
      "cell_type": "code",
      "execution_count": 7,
      "metadata": {
        "id": "7xreF0r04dFM"
      },
      "outputs": [],
      "source": [
        "gamma = 0.8\n",
        "initial_state = 1"
      ]
    },
    {
      "cell_type": "code",
      "execution_count": 8,
      "metadata": {
        "id": "_h8PWoWE4hQf"
      },
      "outputs": [],
      "source": [
        "def available_actions(state):\n",
        "  current_state_row = R[state,]\n",
        "  av_act = np.where(current_state_row>=0)[1]\n",
        "  return av_act"
      ]
    },
    {
      "cell_type": "code",
      "execution_count": 9,
      "metadata": {
        "id": "SR25rjAR5Jaj"
      },
      "outputs": [],
      "source": [
        "available_act = available_actions(initial_state)"
      ]
    },
    {
      "cell_type": "code",
      "execution_count": 10,
      "metadata": {
        "colab": {
          "base_uri": "https://localhost:8080/"
        },
        "id": "_MxIKaxm5SdD",
        "outputId": "825c31cf-f398-4239-94bf-d91ce3d0ee5c"
      },
      "outputs": [
        {
          "data": {
            "text/plain": [
              "array([3, 5])"
            ]
          },
          "execution_count": 10,
          "metadata": {},
          "output_type": "execute_result"
        }
      ],
      "source": [
        "available_act"
      ]
    },
    {
      "cell_type": "code",
      "execution_count": 11,
      "metadata": {
        "id": "rAsc1xhu5V6x"
      },
      "outputs": [],
      "source": [
        "def sample_next_action(available_actions_range):\n",
        "  next_action = int(np.random.choice(available_act, 1))\n",
        "  return next_action"
      ]
    },
    {
      "cell_type": "code",
      "execution_count": 12,
      "metadata": {
        "id": "AWyqxfrC6_C9"
      },
      "outputs": [],
      "source": [
        "action = sample_next_action(available_act)"
      ]
    },
    {
      "cell_type": "code",
      "execution_count": 13,
      "metadata": {
        "colab": {
          "base_uri": "https://localhost:8080/"
        },
        "id": "_yn3kjHG7J5w",
        "outputId": "aeeb267d-daf1-4ea0-8fc3-36e2b9d0991e"
      },
      "outputs": [
        {
          "data": {
            "text/plain": [
              "5"
            ]
          },
          "execution_count": 13,
          "metadata": {},
          "output_type": "execute_result"
        }
      ],
      "source": [
        "action"
      ]
    },
    {
      "cell_type": "code",
      "execution_count": 14,
      "metadata": {
        "id": "boLvj-UH7K7D"
      },
      "outputs": [],
      "source": [
        "def update(current_state, action, gamma):\n",
        "  max_index = np.where(Q[action,]==np.max(Q[action,]))[1]\n",
        "\n",
        "  if max_index.shape[0]>1:\n",
        "    max_index = int(np.random.choice(max_index, size=1))\n",
        "  else:\n",
        "    max_index = int(max_index)\n",
        "  max_value = Q[action, max_index]\n",
        "\n",
        "  #Q_Learning Formula\n",
        "  Q[current_state, action] = R[current_state, action] + gamma*max_value\n",
        "\n",
        "#Update Q matrix\n",
        "update(initial_state, action, gamma)"
      ]
    },
    {
      "cell_type": "code",
      "execution_count": 15,
      "metadata": {
        "colab": {
          "base_uri": "https://localhost:8080/"
        },
        "id": "SsI2mq718_1q",
        "outputId": "be474664-6c5e-4263-cc63-c3c97a05d8c4"
      },
      "outputs": [
        {
          "data": {
            "text/plain": [
              "matrix([[  0.,   0.,   0.,   0.,   0.,   0.],\n",
              "        [  0.,   0.,   0.,   0.,   0., 100.],\n",
              "        [  0.,   0.,   0.,   0.,   0.,   0.],\n",
              "        [  0.,   0.,   0.,   0.,   0.,   0.],\n",
              "        [  0.,   0.,   0.,   0.,   0.,   0.],\n",
              "        [  0.,   0.,   0.,   0.,   0.,   0.]])"
            ]
          },
          "execution_count": 15,
          "metadata": {},
          "output_type": "execute_result"
        }
      ],
      "source": [
        "Q"
      ]
    },
    {
      "cell_type": "code",
      "execution_count": 16,
      "metadata": {
        "id": "oO_4veAI9i9j"
      },
      "outputs": [],
      "source": [
        "initial_state = 4"
      ]
    },
    {
      "cell_type": "code",
      "execution_count": 17,
      "metadata": {
        "id": "zQmJeHTy_QiH"
      },
      "outputs": [],
      "source": [
        "action = sample_next_action(available_act)"
      ]
    },
    {
      "cell_type": "code",
      "execution_count": 18,
      "metadata": {
        "colab": {
          "base_uri": "https://localhost:8080/"
        },
        "id": "umiavcmM_RPc",
        "outputId": "a79a4436-844e-4f22-ebcb-f45037a8a8b7"
      },
      "outputs": [
        {
          "data": {
            "text/plain": [
              "5"
            ]
          },
          "execution_count": 18,
          "metadata": {},
          "output_type": "execute_result"
        }
      ],
      "source": [
        "action"
      ]
    },
    {
      "cell_type": "code",
      "execution_count": 19,
      "metadata": {
        "id": "u7yu-2K0_nb4"
      },
      "outputs": [],
      "source": [
        "update(initial_state, action, gamma)"
      ]
    },
    {
      "cell_type": "code",
      "execution_count": 20,
      "metadata": {
        "colab": {
          "base_uri": "https://localhost:8080/"
        },
        "id": "cQOmd_WU_Te7",
        "outputId": "ad020816-d8d3-430e-bd7e-1ddc09ee2ce4"
      },
      "outputs": [
        {
          "data": {
            "text/plain": [
              "matrix([[  0.,   0.,   0.,   0.,   0.,   0.],\n",
              "        [  0.,   0.,   0.,   0.,   0., 100.],\n",
              "        [  0.,   0.,   0.,   0.,   0.,   0.],\n",
              "        [  0.,   0.,   0.,   0.,   0.,   0.],\n",
              "        [  0.,   0.,   0.,   0.,   0., 100.],\n",
              "        [  0.,   0.,   0.,   0.,   0.,   0.]])"
            ]
          },
          "execution_count": 20,
          "metadata": {},
          "output_type": "execute_result"
        }
      ],
      "source": [
        "Q"
      ]
    },
    {
      "cell_type": "code",
      "execution_count": 23,
      "metadata": {
        "colab": {
          "base_uri": "https://localhost:8080/"
        },
        "id": "JJFaa1cZ_VKH",
        "outputId": "dc426a20-5567-4c6c-e50a-990bf8bc0316"
      },
      "outputs": [
        {
          "name": "stdout",
          "output_type": "stream",
          "text": [
            "Trained Q matrix:\n",
            "[[  0.    0.    0.    0.   80.    0. ]\n",
            " [  0.    0.    0.   64.    0.  100. ]\n",
            " [  0.    0.    0.   64.    0.    0. ]\n",
            " [  0.   80.   51.2   0.   80.    0. ]\n",
            " [  0.   80.   51.2   0.    0.  100. ]\n",
            " [  0.   80.    0.    0.   80.  100. ]]\n"
          ]
        }
      ],
      "source": [
        "for i in range(10000):\n",
        "  current_state = np.random.randint(0, int(Q.shape[0]))\n",
        "  available_act = available_actions(current_state)\n",
        "  action = sample_next_action(available_act)\n",
        "  update(current_state, action, gamma)\n",
        "\n",
        "\n",
        "print(\"Trained Q matrix:\")\n",
        "print(Q/np.max(Q)*100)"
      ]
    },
    {
      "cell_type": "code",
      "execution_count": 24,
      "metadata": {
        "colab": {
          "base_uri": "https://localhost:8080/"
        },
        "id": "Famyuj1G1irf",
        "outputId": "9ec9133a-ed35-460f-be1d-5f551777a309"
      },
      "outputs": [
        {
          "name": "stdout",
          "output_type": "stream",
          "text": [
            "Selected path: \n",
            "[1, 5]\n"
          ]
        }
      ],
      "source": [
        "current_state = 1\n",
        "steps = [current_state]\n",
        "\n",
        "while current_state != 5:\n",
        "  next_step_index = np.where(Q[current_state,]==np.max(Q[current_state,]))[1]\n",
        "  if next_step_index.shape[0]>1:\n",
        "    next_step_index = int(np.random.choice(next_step_index, size=1))\n",
        "  else:\n",
        "    next_step_index = int(next_step_index)\n",
        "\n",
        "  steps.append(next_step_index)\n",
        "  current_state = next_step_index\n",
        "\n",
        "  #print selected step sequence\n",
        "print(\"Selected path: \")\n",
        "print(steps)"
      ]
    }
  ],
  "metadata": {
    "colab": {
      "authorship_tag": "ABX9TyOj5gp9PBIwZLSr39GQYo3i",
      "collapsed_sections": [],
      "include_colab_link": true,
      "provenance": []
    },
    "kernelspec": {
      "display_name": "Python 3",
      "name": "python3"
    },
    "language_info": {
      "name": "python"
    }
  },
  "nbformat": 4,
  "nbformat_minor": 0
}
