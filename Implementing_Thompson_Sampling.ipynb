{
  "cells": [
    {
      "cell_type": "code",
      "execution_count": null,
      "metadata": {
        "id": "OcMkpuCqpC31"
      },
      "outputs": [],
      "source": [
        "import numpy as np\n",
        "import pandas as pd\n",
        "import matplotlib.pyplot as plt"
      ]
    },
    {
      "cell_type": "code",
      "execution_count": null,
      "metadata": {
        "id": "yRf96ooApPXS"
      },
      "outputs": [],
      "source": [
        "df = pd.read_csv(\"Ads_Optimisation.csv\")"
      ]
    },
    {
      "cell_type": "code",
      "execution_count": null,
      "metadata": {
        "colab": {
          "base_uri": "https://localhost:8080/",
          "height": 424
        },
        "id": "JLq76AkBpXd2",
        "outputId": "8ecf5be9-6a75-419b-c067-bb38118b0d85"
      },
      "outputs": [
        {
          "data": {
            "text/html": [
              "\n",
              "  <div id=\"df-3d529911-ac0b-4d74-933f-ce2f31ede047\">\n",
              "    <div class=\"colab-df-container\">\n",
              "      <div>\n",
              "<style scoped>\n",
              "    .dataframe tbody tr th:only-of-type {\n",
              "        vertical-align: middle;\n",
              "    }\n",
              "\n",
              "    .dataframe tbody tr th {\n",
              "        vertical-align: top;\n",
              "    }\n",
              "\n",
              "    .dataframe thead th {\n",
              "        text-align: right;\n",
              "    }\n",
              "</style>\n",
              "<table border=\"1\" class=\"dataframe\">\n",
              "  <thead>\n",
              "    <tr style=\"text-align: right;\">\n",
              "      <th></th>\n",
              "      <th>Ad 1</th>\n",
              "      <th>Ad 2</th>\n",
              "      <th>Ad 3</th>\n",
              "      <th>Ad 4</th>\n",
              "      <th>Ad 5</th>\n",
              "      <th>Ad 6</th>\n",
              "      <th>Ad 7</th>\n",
              "      <th>Ad 8</th>\n",
              "      <th>Ad 9</th>\n",
              "      <th>Ad 10</th>\n",
              "    </tr>\n",
              "  </thead>\n",
              "  <tbody>\n",
              "    <tr>\n",
              "      <th>0</th>\n",
              "      <td>1</td>\n",
              "      <td>0</td>\n",
              "      <td>0</td>\n",
              "      <td>0</td>\n",
              "      <td>1</td>\n",
              "      <td>0</td>\n",
              "      <td>0</td>\n",
              "      <td>0</td>\n",
              "      <td>1</td>\n",
              "      <td>0</td>\n",
              "    </tr>\n",
              "    <tr>\n",
              "      <th>1</th>\n",
              "      <td>0</td>\n",
              "      <td>0</td>\n",
              "      <td>0</td>\n",
              "      <td>0</td>\n",
              "      <td>0</td>\n",
              "      <td>0</td>\n",
              "      <td>0</td>\n",
              "      <td>0</td>\n",
              "      <td>1</td>\n",
              "      <td>0</td>\n",
              "    </tr>\n",
              "    <tr>\n",
              "      <th>2</th>\n",
              "      <td>0</td>\n",
              "      <td>0</td>\n",
              "      <td>0</td>\n",
              "      <td>0</td>\n",
              "      <td>0</td>\n",
              "      <td>0</td>\n",
              "      <td>0</td>\n",
              "      <td>0</td>\n",
              "      <td>0</td>\n",
              "      <td>0</td>\n",
              "    </tr>\n",
              "    <tr>\n",
              "      <th>3</th>\n",
              "      <td>0</td>\n",
              "      <td>1</td>\n",
              "      <td>0</td>\n",
              "      <td>0</td>\n",
              "      <td>0</td>\n",
              "      <td>0</td>\n",
              "      <td>0</td>\n",
              "      <td>1</td>\n",
              "      <td>0</td>\n",
              "      <td>0</td>\n",
              "    </tr>\n",
              "    <tr>\n",
              "      <th>4</th>\n",
              "      <td>0</td>\n",
              "      <td>0</td>\n",
              "      <td>0</td>\n",
              "      <td>0</td>\n",
              "      <td>0</td>\n",
              "      <td>0</td>\n",
              "      <td>0</td>\n",
              "      <td>0</td>\n",
              "      <td>0</td>\n",
              "      <td>0</td>\n",
              "    </tr>\n",
              "    <tr>\n",
              "      <th>...</th>\n",
              "      <td>...</td>\n",
              "      <td>...</td>\n",
              "      <td>...</td>\n",
              "      <td>...</td>\n",
              "      <td>...</td>\n",
              "      <td>...</td>\n",
              "      <td>...</td>\n",
              "      <td>...</td>\n",
              "      <td>...</td>\n",
              "      <td>...</td>\n",
              "    </tr>\n",
              "    <tr>\n",
              "      <th>9995</th>\n",
              "      <td>0</td>\n",
              "      <td>0</td>\n",
              "      <td>1</td>\n",
              "      <td>0</td>\n",
              "      <td>0</td>\n",
              "      <td>0</td>\n",
              "      <td>0</td>\n",
              "      <td>1</td>\n",
              "      <td>0</td>\n",
              "      <td>0</td>\n",
              "    </tr>\n",
              "    <tr>\n",
              "      <th>9996</th>\n",
              "      <td>0</td>\n",
              "      <td>0</td>\n",
              "      <td>0</td>\n",
              "      <td>0</td>\n",
              "      <td>0</td>\n",
              "      <td>0</td>\n",
              "      <td>0</td>\n",
              "      <td>0</td>\n",
              "      <td>0</td>\n",
              "      <td>0</td>\n",
              "    </tr>\n",
              "    <tr>\n",
              "      <th>9997</th>\n",
              "      <td>0</td>\n",
              "      <td>0</td>\n",
              "      <td>0</td>\n",
              "      <td>0</td>\n",
              "      <td>0</td>\n",
              "      <td>0</td>\n",
              "      <td>0</td>\n",
              "      <td>0</td>\n",
              "      <td>0</td>\n",
              "      <td>0</td>\n",
              "    </tr>\n",
              "    <tr>\n",
              "      <th>9998</th>\n",
              "      <td>1</td>\n",
              "      <td>0</td>\n",
              "      <td>0</td>\n",
              "      <td>0</td>\n",
              "      <td>0</td>\n",
              "      <td>0</td>\n",
              "      <td>0</td>\n",
              "      <td>1</td>\n",
              "      <td>0</td>\n",
              "      <td>0</td>\n",
              "    </tr>\n",
              "    <tr>\n",
              "      <th>9999</th>\n",
              "      <td>0</td>\n",
              "      <td>1</td>\n",
              "      <td>0</td>\n",
              "      <td>0</td>\n",
              "      <td>0</td>\n",
              "      <td>0</td>\n",
              "      <td>0</td>\n",
              "      <td>0</td>\n",
              "      <td>0</td>\n",
              "      <td>0</td>\n",
              "    </tr>\n",
              "  </tbody>\n",
              "</table>\n",
              "<p>10000 rows × 10 columns</p>\n",
              "</div>\n",
              "      <button class=\"colab-df-convert\" onclick=\"convertToInteractive('df-3d529911-ac0b-4d74-933f-ce2f31ede047')\"\n",
              "              title=\"Convert this dataframe to an interactive table.\"\n",
              "              style=\"display:none;\">\n",
              "        \n",
              "  <svg xmlns=\"http://www.w3.org/2000/svg\" height=\"24px\"viewBox=\"0 0 24 24\"\n",
              "       width=\"24px\">\n",
              "    <path d=\"M0 0h24v24H0V0z\" fill=\"none\"/>\n",
              "    <path d=\"M18.56 5.44l.94 2.06.94-2.06 2.06-.94-2.06-.94-.94-2.06-.94 2.06-2.06.94zm-11 1L8.5 8.5l.94-2.06 2.06-.94-2.06-.94L8.5 2.5l-.94 2.06-2.06.94zm10 10l.94 2.06.94-2.06 2.06-.94-2.06-.94-.94-2.06-.94 2.06-2.06.94z\"/><path d=\"M17.41 7.96l-1.37-1.37c-.4-.4-.92-.59-1.43-.59-.52 0-1.04.2-1.43.59L10.3 9.45l-7.72 7.72c-.78.78-.78 2.05 0 2.83L4 21.41c.39.39.9.59 1.41.59.51 0 1.02-.2 1.41-.59l7.78-7.78 2.81-2.81c.8-.78.8-2.07 0-2.86zM5.41 20L4 18.59l7.72-7.72 1.47 1.35L5.41 20z\"/>\n",
              "  </svg>\n",
              "      </button>\n",
              "      \n",
              "  <style>\n",
              "    .colab-df-container {\n",
              "      display:flex;\n",
              "      flex-wrap:wrap;\n",
              "      gap: 12px;\n",
              "    }\n",
              "\n",
              "    .colab-df-convert {\n",
              "      background-color: #E8F0FE;\n",
              "      border: none;\n",
              "      border-radius: 50%;\n",
              "      cursor: pointer;\n",
              "      display: none;\n",
              "      fill: #1967D2;\n",
              "      height: 32px;\n",
              "      padding: 0 0 0 0;\n",
              "      width: 32px;\n",
              "    }\n",
              "\n",
              "    .colab-df-convert:hover {\n",
              "      background-color: #E2EBFA;\n",
              "      box-shadow: 0px 1px 2px rgba(60, 64, 67, 0.3), 0px 1px 3px 1px rgba(60, 64, 67, 0.15);\n",
              "      fill: #174EA6;\n",
              "    }\n",
              "\n",
              "    [theme=dark] .colab-df-convert {\n",
              "      background-color: #3B4455;\n",
              "      fill: #D2E3FC;\n",
              "    }\n",
              "\n",
              "    [theme=dark] .colab-df-convert:hover {\n",
              "      background-color: #434B5C;\n",
              "      box-shadow: 0px 1px 3px 1px rgba(0, 0, 0, 0.15);\n",
              "      filter: drop-shadow(0px 1px 2px rgba(0, 0, 0, 0.3));\n",
              "      fill: #FFFFFF;\n",
              "    }\n",
              "  </style>\n",
              "\n",
              "      <script>\n",
              "        const buttonEl =\n",
              "          document.querySelector('#df-3d529911-ac0b-4d74-933f-ce2f31ede047 button.colab-df-convert');\n",
              "        buttonEl.style.display =\n",
              "          google.colab.kernel.accessAllowed ? 'block' : 'none';\n",
              "\n",
              "        async function convertToInteractive(key) {\n",
              "          const element = document.querySelector('#df-3d529911-ac0b-4d74-933f-ce2f31ede047');\n",
              "          const dataTable =\n",
              "            await google.colab.kernel.invokeFunction('convertToInteractive',\n",
              "                                                     [key], {});\n",
              "          if (!dataTable) return;\n",
              "\n",
              "          const docLinkHtml = 'Like what you see? Visit the ' +\n",
              "            '<a target=\"_blank\" href=https://colab.research.google.com/notebooks/data_table.ipynb>data table notebook</a>'\n",
              "            + ' to learn more about interactive tables.';\n",
              "          element.innerHTML = '';\n",
              "          dataTable['output_type'] = 'display_data';\n",
              "          await google.colab.output.renderOutput(dataTable, element);\n",
              "          const docLink = document.createElement('div');\n",
              "          docLink.innerHTML = docLinkHtml;\n",
              "          element.appendChild(docLink);\n",
              "        }\n",
              "      </script>\n",
              "    </div>\n",
              "  </div>\n",
              "  "
            ],
            "text/plain": [
              "      Ad 1  Ad 2  Ad 3  Ad 4  Ad 5  Ad 6  Ad 7  Ad 8  Ad 9  Ad 10\n",
              "0        1     0     0     0     1     0     0     0     1      0\n",
              "1        0     0     0     0     0     0     0     0     1      0\n",
              "2        0     0     0     0     0     0     0     0     0      0\n",
              "3        0     1     0     0     0     0     0     1     0      0\n",
              "4        0     0     0     0     0     0     0     0     0      0\n",
              "...    ...   ...   ...   ...   ...   ...   ...   ...   ...    ...\n",
              "9995     0     0     1     0     0     0     0     1     0      0\n",
              "9996     0     0     0     0     0     0     0     0     0      0\n",
              "9997     0     0     0     0     0     0     0     0     0      0\n",
              "9998     1     0     0     0     0     0     0     1     0      0\n",
              "9999     0     1     0     0     0     0     0     0     0      0\n",
              "\n",
              "[10000 rows x 10 columns]"
            ]
          },
          "execution_count": 4,
          "metadata": {},
          "output_type": "execute_result"
        }
      ],
      "source": [
        "df"
      ]
    },
    {
      "cell_type": "code",
      "execution_count": null,
      "metadata": {
        "id": "cgB0ARzCpoRn"
      },
      "outputs": [],
      "source": [
        "import random"
      ]
    },
    {
      "cell_type": "code",
      "execution_count": null,
      "metadata": {
        "id": "3Wa136POpvAm"
      },
      "outputs": [],
      "source": [
        "N = 1000\n",
        "# N = df.shape[0]\n",
        "d = df.shape[1]\n",
        "ads_selected = []\n",
        "number_of_reward_1 = [0]*d\n",
        "number_of_reward_0 = [0]*d\n",
        "total_reward = 0\n",
        "\n",
        "for n in range(N):\n",
        "  ad = 0\n",
        "  max_random_beta = 0\n",
        "  for i in range(d):\n",
        "    random_beta = random.betavariate(number_of_reward_1[i] + 1, number_of_reward_0[i] + 1)\n",
        "    if random_beta > max_random_beta:\n",
        "      max_random_beta = random_beta\n",
        "      ad = i\n",
        "\n",
        "  ads_selected.append(ad)\n",
        "  reward = df.iloc[n, ad]\n",
        "  if reward == 1:\n",
        "    number_of_reward_1[ad] += 1\n",
        "  else:\n",
        "    number_of_reward_0[ad] += 1\n",
        "  total_reward += reward"
      ]
    },
    {
      "cell_type": "code",
      "execution_count": null,
      "metadata": {
        "colab": {
          "base_uri": "https://localhost:8080/"
        },
        "id": "MhUYqp_TqTK6",
        "outputId": "b21b3322-bbea-4cb2-e590-712234184118"
      },
      "outputs": [
        {
          "data": {
            "text/plain": [
              "214"
            ]
          },
          "execution_count": 7,
          "metadata": {},
          "output_type": "execute_result"
        }
      ],
      "source": [
        "total_reward"
      ]
    },
    {
      "cell_type": "code",
      "execution_count": null,
      "metadata": {
        "colab": {
          "base_uri": "https://localhost:8080/"
        },
        "id": "YPduNl4StQjJ",
        "outputId": "3a1c50db-13ac-41b4-b756-22d2a51439e5"
      },
      "outputs": [
        {
          "name": "stdout",
          "output_type": "stream",
          "text": [
            "[7, 2, 4, 5, 6, 1, 6, 8, 1, 8, 9, 3, 0, 6, 5, 7, 0, 2, 1, 0, 2, 5, 7, 1, 8, 4, 5, 4, 9, 1, 3, 8, 9, 4, 3, 7, 7, 8, 5, 1, 7, 9, 3, 8, 1, 2, 9, 7, 4, 8, 7, 9, 6, 7, 5, 1, 1, 6, 0, 2, 1, 1, 7, 6, 1, 3, 0, 1, 3, 3, 6, 1, 6, 2, 9, 1, 6, 0, 1, 9, 7, 1, 1, 7, 7, 4, 7, 2, 4, 7, 1, 4, 9, 9, 7, 7, 7, 7, 3, 3, 6, 9, 7, 5, 3, 7, 0, 9, 2, 0, 3, 1, 1, 0, 2, 3, 9, 7, 7, 5, 7, 7, 0, 9, 1, 2, 3, 1, 9, 0, 7, 1, 3, 1, 7, 4, 7, 3, 4, 4, 4, 4, 0, 1, 7, 4, 3, 1, 1, 9, 4, 1, 1, 7, 4, 1, 1, 7, 1, 8, 1, 7, 4, 4, 7, 1, 4, 4, 7, 1, 7, 4, 1, 4, 9, 3, 3, 1, 3, 7, 4, 8, 4, 4, 8, 9, 9, 1, 1, 2, 1, 1, 4, 4, 2, 5, 3, 3, 9, 1, 0, 2, 4, 3, 5, 7, 9, 3, 1, 1, 1, 1, 4, 3, 4, 9, 4, 9, 1, 9, 9, 9, 9, 3, 0, 4, 3, 5, 4, 9, 0, 7, 4, 1, 4, 1, 0, 4, 5, 7, 4, 9, 9, 1, 4, 4, 3, 1, 7, 4, 5, 3, 7, 9, 4, 7, 4, 7, 9, 4, 7, 4, 4, 4, 1, 1, 8, 7, 4, 6, 9, 0, 4, 4, 4, 4, 0, 7, 4, 4, 0, 4, 1, 0, 3, 4, 4, 4, 4, 5, 0, 4, 4, 4, 1, 7, 3, 4, 4, 4, 4, 9, 4, 4, 0, 4, 4, 4, 4, 6, 3, 4, 4, 4, 4, 4, 8, 4, 8, 4, 4, 4, 9, 5, 3, 4, 4, 4, 4, 4, 4, 4, 4, 4, 3, 6, 5, 4, 4, 4, 4, 4, 4, 0, 9, 4, 1, 4, 4, 4, 4, 0, 4, 4, 4, 4, 3, 7, 4, 0, 0, 1, 4, 4, 9, 0, 7, 4, 4, 9, 4, 0, 4, 4, 4, 4, 0, 0, 1, 4, 4, 4, 4, 4, 4, 4, 4, 4, 4, 1, 2, 1, 4, 1, 4, 4, 4, 4, 0, 4, 4, 4, 8, 7, 4, 4, 4, 4, 4, 4, 4, 4, 4, 7, 4, 9, 3, 4, 7, 4, 4, 4, 4, 4, 4, 3, 4, 4, 4, 3, 4, 4, 4, 4, 4, 4, 4, 4, 4, 4, 4, 4, 4, 4, 4, 4, 4, 4, 3, 4, 0, 4, 4, 4, 7, 4, 4, 4, 3, 4, 4, 4, 4, 4, 4, 4, 6, 4, 4, 4, 4, 4, 4, 0, 4, 4, 4, 0, 4, 3, 0, 4, 3, 4, 4, 4, 0, 7, 4, 3, 4, 4, 4, 4, 4, 3, 4, 3, 4, 4, 4, 4, 4, 9, 4, 4, 0, 4, 4, 4, 4, 4, 4, 4, 4, 4, 4, 4, 4, 4, 4, 4, 1, 4, 4, 4, 4, 4, 4, 4, 4, 4, 1, 6, 7, 1, 4, 7, 4, 4, 4, 4, 4, 4, 1, 4, 4, 3, 4, 4, 3, 4, 4, 4, 4, 4, 4, 3, 4, 3, 4, 4, 4, 4, 4, 4, 4, 3, 4, 0, 4, 4, 7, 4, 3, 4, 1, 4, 7, 4, 4, 4, 4, 4, 4, 4, 7, 4, 4, 4, 8, 4, 4, 4, 1, 1, 4, 4, 8, 4, 7, 7, 4, 4, 4, 4, 4, 7, 7, 4, 4, 6, 7, 4, 7, 4, 6, 7, 4, 7, 4, 4, 4, 4, 3, 7, 7, 7, 4, 4, 7, 4, 7, 4, 4, 8, 4, 7, 4, 7, 7, 7, 6, 7, 7, 4, 4, 4, 4, 8, 4, 4, 4, 4, 7, 8, 7, 4, 4, 7, 4, 7, 4, 4, 4, 4, 7, 7, 4, 7, 4, 7, 7, 7, 4, 4, 7, 4, 7, 4, 7, 4, 7, 4, 4, 1, 6, 4, 4, 7, 4, 7, 7, 4, 0, 4, 4, 7, 7, 4, 7, 4, 4, 7, 7, 7, 3, 7, 4, 7, 7, 4, 4, 7, 4, 7, 7, 4, 4, 4, 4, 3, 4, 4, 4, 7, 4, 4, 7, 4, 4, 7, 7, 0, 4, 7, 4, 4, 0, 4, 4, 4, 7, 4, 7, 7, 7, 7, 4, 7, 4, 7, 7, 4, 4, 5, 4, 7, 4, 7, 7, 7, 4, 4, 4, 7, 0, 4, 4, 4, 4, 7, 7, 7, 7, 8, 7, 4, 4, 4, 4, 4, 4, 7, 4, 7, 4, 4, 7, 4, 7, 4, 4, 4, 4, 4, 7, 7, 4, 4, 6, 7, 4, 4, 7, 4, 4, 7, 6, 4, 4, 2, 4, 7, 7, 4, 7, 6, 7, 4, 7, 4, 4, 7, 4, 4, 4, 7, 7, 7, 4, 7, 4, 4, 4, 7, 4, 4, 7, 4, 3, 7, 7, 4, 7, 7, 5, 7, 7, 7, 7, 7, 7, 7, 7, 7, 7, 4, 7, 7, 7, 7, 7, 7, 0, 7, 4, 7, 7, 7, 7, 1, 4, 7, 7, 4, 4, 7, 4, 7, 4, 7, 4, 4, 4, 4, 7, 4, 9, 4, 7, 4, 4, 4, 7, 7, 7, 7, 4, 4, 4, 7, 4, 4, 4, 4, 7, 7, 7, 4, 3, 4, 7, 0, 4, 2, 7, 7, 7, 4, 7, 4, 4, 7, 4, 4, 0, 4, 3, 4, 7, 7, 7, 4, 4, 4, 6, 4, 4, 4, 4, 4, 7, 5, 7, 7, 4, 7, 2, 7, 4, 4, 7, 2, 7, 4, 7, 4, 7, 7, 4, 4, 1, 4, 7, 4, 4, 4, 4, 4, 7, 4, 4, 4, 4, 7, 4, 4, 4, 4, 4, 4, 1, 0, 4, 4, 4, 4, 7, 4, 3, 2, 4, 3, 4, 7, 7, 4, 4, 4]\n"
          ]
        }
      ],
      "source": [
        "print(ads_selected)"
      ]
    },
    {
      "cell_type": "code",
      "execution_count": null,
      "metadata": {
        "colab": {
          "base_uri": "https://localhost:8080/",
          "height": 329
        },
        "id": "oLA4fvdYtT0n",
        "outputId": "481eecee-bdaa-40e2-98f5-329f4937fb5b"
      },
      "outputs": [
        {
          "data": {
            "text/plain": [
              "Text(0, 0.5, 'Number of times each ad was selected by the algorithm')"
            ]
          },
          "execution_count": 9,
          "metadata": {},
          "output_type": "execute_result"
        },
        {
          "data": {
            "image/png": "[encoded data removed]",
            "text/plain": [
              "<Figure size 432x288 with 1 Axes>"
            ]
          },
          "metadata": {
            "needs_background": "light"
          },
          "output_type": "display_data"
        }
      ],
      "source": [
        "plt.hist(ads_selected)\n",
        "plt.title('Histogram of ads selections')\n",
        "plt.xlabel('Ads')\n",
        "plt.ylabel('Number of times each ad was selected by the algorithm')"
      ]
    },
    {
      "cell_type": "code",
      "execution_count": null,
      "metadata": {
        "colab": {
          "base_uri": "https://localhost:8080/"
        },
        "id": "J719B4hzuZGA",
        "outputId": "8b452a64-1ebc-48b5-a029-acc1333e69bc"
      },
      "outputs": [
        {
          "data": {
            "text/plain": [
              "214"
            ]
          },
          "execution_count": 10,
          "metadata": {},
          "output_type": "execute_result"
        }
      ],
      "source": [
        "total_reward"
      ]
    },
    {
      "cell_type": "code",
      "execution_count": null,
      "metadata": {
        "colab": {
          "base_uri": "https://localhost:8080/"
        },
        "id": "eRyMZhf8xJFS",
        "outputId": "0e45db10-4bdd-4f47-cbdb-a5cd8de8bb0d"
      },
      "outputs": [
        {
          "name": "stdout",
          "output_type": "stream",
          "text": [
            "[7, 2, 4, 5, 6, 1, 6, 8, 1, 8, 9, 3, 0, 6, 5, 7, 0, 2, 1, 0, 2, 5, 7, 1, 8, 4, 5, 4, 9, 1, 3, 8, 9, 4, 3, 7, 7, 8, 5, 1, 7, 9, 3, 8, 1, 2, 9, 7, 4, 8, 7, 9, 6, 7, 5, 1, 1, 6, 0, 2, 1, 1, 7, 6, 1, 3, 0, 1, 3, 3, 6, 1, 6, 2, 9, 1, 6, 0, 1, 9, 7, 1, 1, 7, 7, 4, 7, 2, 4, 7, 1, 4, 9, 9, 7, 7, 7, 7, 3, 3, 6, 9, 7, 5, 3, 7, 0, 9, 2, 0, 3, 1, 1, 0, 2, 3, 9, 7, 7, 5, 7, 7, 0, 9, 1, 2, 3, 1, 9, 0, 7, 1, 3, 1, 7, 4, 7, 3, 4, 4, 4, 4, 0, 1, 7, 4, 3, 1, 1, 9, 4, 1, 1, 7, 4, 1, 1, 7, 1, 8, 1, 7, 4, 4, 7, 1, 4, 4, 7, 1, 7, 4, 1, 4, 9, 3, 3, 1, 3, 7, 4, 8, 4, 4, 8, 9, 9, 1, 1, 2, 1, 1, 4, 4, 2, 5, 3, 3, 9, 1, 0, 2, 4, 3, 5, 7, 9, 3, 1, 1, 1, 1, 4, 3, 4, 9, 4, 9, 1, 9, 9, 9, 9, 3, 0, 4, 3, 5, 4, 9, 0, 7, 4, 1, 4, 1, 0, 4, 5, 7, 4, 9, 9, 1, 4, 4, 3, 1, 7, 4, 5, 3, 7, 9, 4, 7, 4, 7, 9, 4, 7, 4, 4, 4, 1, 1, 8, 7, 4, 6, 9, 0, 4, 4, 4, 4, 0, 7, 4, 4, 0, 4, 1, 0, 3, 4, 4, 4, 4, 5, 0, 4, 4, 4, 1, 7, 3, 4, 4, 4, 4, 9, 4, 4, 0, 4, 4, 4, 4, 6, 3, 4, 4, 4, 4, 4, 8, 4, 8, 4, 4, 4, 9, 5, 3, 4, 4, 4, 4, 4, 4, 4, 4, 4, 3, 6, 5, 4, 4, 4, 4, 4, 4, 0, 9, 4, 1, 4, 4, 4, 4, 0, 4, 4, 4, 4, 3, 7, 4, 0, 0, 1, 4, 4, 9, 0, 7, 4, 4, 9, 4, 0, 4, 4, 4, 4, 0, 0, 1, 4, 4, 4, 4, 4, 4, 4, 4, 4, 4, 1, 2, 1, 4, 1, 4, 4, 4, 4, 0, 4, 4, 4, 8, 7, 4, 4, 4, 4, 4, 4, 4, 4, 4, 7, 4, 9, 3, 4, 7, 4, 4, 4, 4, 4, 4, 3, 4, 4, 4, 3, 4, 4, 4, 4, 4, 4, 4, 4, 4, 4, 4, 4, 4, 4, 4, 4, 4, 4, 3, 4, 0, 4, 4, 4, 7, 4, 4, 4, 3, 4, 4, 4, 4, 4, 4, 4, 6, 4, 4, 4, 4, 4, 4, 0, 4, 4, 4, 0, 4, 3, 0, 4, 3, 4, 4, 4, 0, 7, 4, 3, 4, 4, 4, 4, 4, 3, 4, 3, 4, 4, 4, 4, 4, 9, 4, 4, 0, 4, 4, 4, 4, 4, 4, 4, 4, 4, 4, 4, 4, 4, 4, 4, 1, 4, 4, 4, 4, 4, 4, 4, 4, 4, 1, 6, 7, 1, 4, 7, 4, 4, 4, 4, 4, 4, 1, 4, 4, 3, 4, 4, 3, 4, 4, 4, 4, 4, 4, 3, 4, 3, 4, 4, 4, 4, 4, 4, 4, 3, 4, 0, 4, 4, 7, 4, 3, 4, 1, 4, 7, 4, 4, 4, 4, 4, 4, 4, 7, 4, 4, 4, 8, 4, 4, 4, 1, 1, 4, 4, 8, 4, 7, 7, 4, 4, 4, 4, 4, 7, 7, 4, 4, 6, 7, 4, 7, 4, 6, 7, 4, 7, 4, 4, 4, 4, 3, 7, 7, 7, 4, 4, 7, 4, 7, 4, 4, 8, 4, 7, 4, 7, 7, 7, 6, 7, 7, 4, 4, 4, 4, 8, 4, 4, 4, 4, 7, 8, 7, 4, 4, 7, 4, 7, 4, 4, 4, 4, 7, 7, 4, 7, 4, 7, 7, 7, 4, 4, 7, 4, 7, 4, 7, 4, 7, 4, 4, 1, 6, 4, 4, 7, 4, 7, 7, 4, 0, 4, 4, 7, 7, 4, 7, 4, 4, 7, 7, 7, 3, 7, 4, 7, 7, 4, 4, 7, 4, 7, 7, 4, 4, 4, 4, 3, 4, 4, 4, 7, 4, 4, 7, 4, 4, 7, 7, 0, 4, 7, 4, 4, 0, 4, 4, 4, 7, 4, 7, 7, 7, 7, 4, 7, 4, 7, 7, 4, 4, 5, 4, 7, 4, 7, 7, 7, 4, 4, 4, 7, 0, 4, 4, 4, 4, 7, 7, 7, 7, 8, 7, 4, 4, 4, 4, 4, 4, 7, 4, 7, 4, 4, 7, 4, 7, 4, 4, 4, 4, 4, 7, 7, 4, 4, 6, 7, 4, 4, 7, 4, 4, 7, 6, 4, 4, 2, 4, 7, 7, 4, 7, 6, 7, 4, 7, 4, 4, 7, 4, 4, 4, 7, 7, 7, 4, 7, 4, 4, 4, 7, 4, 4, 7, 4, 3, 7, 7, 4, 7, 7, 5, 7, 7, 7, 7, 7, 7, 7, 7, 7, 7, 4, 7, 7, 7, 7, 7, 7, 0, 7, 4, 7, 7, 7, 7, 1, 4, 7, 7, 4, 4, 7, 4, 7, 4, 7, 4, 4, 4, 4, 7, 4, 9, 4, 7, 4, 4, 4, 7, 7, 7, 7, 4, 4, 4, 7, 4, 4, 4, 4, 7, 7, 7, 4, 3, 4, 7, 0, 4, 2, 7, 7, 7, 4, 7, 4, 4, 7, 4, 4, 0, 4, 3, 4, 7, 7, 7, 4, 4, 4, 6, 4, 4, 4, 4, 4, 7, 5, 7, 7, 4, 7, 2, 7, 4, 4, 7, 2, 7, 4, 7, 4, 7, 7, 4, 4, 1, 4, 7, 4, 4, 4, 4, 4, 7, 4, 4, 4, 4, 7, 4, 4, 4, 4, 4, 4, 1, 0, 4, 4, 4, 4, 7, 4, 3, 2, 4, 3, 4, 7, 7, 4, 4, 4]\n"
          ]
        }
      ],
      "source": [
        "print(ads_selected)"
      ]
    },
    {
      "cell_type": "code",
      "execution_count": null,
      "metadata": {
        "colab": {
          "base_uri": "https://localhost:8080/",
          "height": 329
        },
        "id": "xkcqam71xhoc",
        "outputId": "b45aa97b-22cd-494b-acfd-a84339c7a714"
      },
      "outputs": [
        {
          "data": {
            "text/plain": [
              "Text(0, 0.5, 'Number of times each ad was selected by the algorithm')"
            ]
          },
          "execution_count": 12,
          "metadata": {},
          "output_type": "execute_result"
        },
        {
          "data": {
            "image/png": "[encoded data removed]",
            "text/plain": [
              "<Figure size 432x288 with 1 Axes>"
            ]
          },
          "metadata": {
            "needs_background": "light"
          },
          "output_type": "display_data"
        }
      ],
      "source": [
        "plt.hist(ads_selected)\n",
        "plt.title('Histogram of ads selections')\n",
        "plt.xlabel('Ads')\n",
        "plt.ylabel('Number of times each ad was selected by the algorithm')"
      ]
    }
  ],
  "metadata": {
    "colab": {
      "authorship_tag": "ABX9TyNkA5ij07X7R7alSC5eV7M7",
      "include_colab_link": true,
      "provenance": []
    },
    "kernelspec": {
      "display_name": "Python 3",
      "name": "python3"
    },
    "language_info": {
      "name": "python"
    }
  },
  "nbformat": 4,
  "nbformat_minor": 0
}
