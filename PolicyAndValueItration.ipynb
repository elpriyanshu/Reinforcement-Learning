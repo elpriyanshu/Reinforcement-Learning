{
 "cells": [
  {
   "cell_type": "code",
   "execution_count": 1,
   "metadata": {},
   "outputs": [],
   "source": [
    "import numpy as np"
   ]
  },
  {
   "cell_type": "code",
   "execution_count": 5,
   "metadata": {},
   "outputs": [],
   "source": [
    "states = [0,1,2,3,4]\n",
    "action = [0,1]\n",
    "N_STATES = len(states)\n",
    "N_ACTIONS = len(action)\n",
    "P = np.zeros((N_STATES, N_ACTIONS, N_STATES)) # transition probability\n",
    "R = np.zeros((N_STATES, N_ACTIONS, N_STATES)) # rewards"
   ]
  },
  {
   "cell_type": "code",
   "execution_count": 6,
   "metadata": {},
   "outputs": [
    {
     "name": "stdout",
     "output_type": "stream",
     "text": [
      "[[[0. 0. 0. 0. 0.]\n",
      "  [0. 0. 0. 0. 0.]]\n",
      "\n",
      " [[0. 0. 0. 0. 0.]\n",
      "  [0. 0. 0. 0. 0.]]\n",
      "\n",
      " [[0. 0. 0. 0. 0.]\n",
      "  [0. 0. 0. 0. 0.]]\n",
      "\n",
      " [[0. 0. 0. 0. 0.]\n",
      "  [0. 0. 0. 0. 0.]]\n",
      "\n",
      " [[0. 0. 0. 0. 0.]\n",
      "  [0. 0. 0. 0. 0.]]]\n"
     ]
    }
   ],
   "source": [
    "print(P)"
   ]
  },
  {
   "cell_type": "code",
   "execution_count": 9,
   "metadata": {},
   "outputs": [
    {
     "name": "stdout",
     "output_type": "stream",
     "text": [
      "[[[0. 1. 0. 0. 0.]\n",
      "  [0. 0. 0. 0. 0.]]\n",
      "\n",
      " [[0. 0. 0. 0. 0.]\n",
      "  [0. 0. 1. 0. 0.]]\n",
      "\n",
      " [[0. 0. 0. 1. 0.]\n",
      "  [0. 0. 0. 0. 0.]]\n",
      "\n",
      " [[0. 0. 0. 0. 0.]\n",
      "  [0. 0. 0. 0. 1.]]\n",
      "\n",
      " [[1. 0. 0. 0. 0.]\n",
      "  [0. 0. 0. 0. 0.]]]\n"
     ]
    }
   ],
   "source": [
    "P[0,0,1] = 1.0\n",
    "P[1,1,2] = 1.0\n",
    "P[2,0,3] = 1.0\n",
    "P[3,1,4] = 1.0\n",
    "P[4,0,0] = 1.0\n",
    "print(P)"
   ]
  },
  {
   "cell_type": "code",
   "execution_count": 10,
   "metadata": {},
   "outputs": [
    {
     "name": "stdout",
     "output_type": "stream",
     "text": [
      "[[[   0.    1.    0.    0.    0.]\n",
      "  [   0.    0.    0.    0.    0.]]\n",
      "\n",
      " [[   0.    0.    0.    0.    0.]\n",
      "  [   0.    0.   10.    0.    0.]]\n",
      "\n",
      " [[   0.    0.    0.  100.    0.]\n",
      "  [   0.    0.    0.    0.    0.]]\n",
      "\n",
      " [[   0.    0.    0.    0.    0.]\n",
      "  [   0.    0.    0.    0. 1000.]]\n",
      "\n",
      " [[   1.    0.    0.    0.    0.]\n",
      "  [   0.    0.    0.    0.    0.]]]\n"
     ]
    }
   ],
   "source": [
    "R[0,0,1] = 1\n",
    "R[1,1,2] = 10\n",
    "R[2,0,3] = 100\n",
    "R[3,1,4] = 1000\n",
    "R[4,0,0] = 1.0\n",
    "print(R)"
   ]
  },
  {
   "cell_type": "code",
   "execution_count": 13,
   "metadata": {},
   "outputs": [
    {
     "name": "stdout",
     "output_type": "stream",
     "text": [
      "Initial Policy [0, 0, 0, 0, 0]\n",
      "[0. 0. 0. 0. 0.]\n"
     ]
    }
   ],
   "source": [
    "gamma = 0.75\n",
    "\n",
    "# initilize policy and value arbatrarily\n",
    "policy = [0 for s in range (N_STATES)]\n",
    "V = np.zeros(N_STATES)\n",
    "\n",
    "print(\"Initial Policy\", policy)\n",
    "print(V)\n"
   ]
  },
  {
   "cell_type": "code",
   "execution_count": 20,
   "metadata": {},
   "outputs": [
    {
     "name": "stdout",
     "output_type": "stream",
     "text": [
      "Iterations: 1\n",
      "Final policy\n",
      "[0, 1, 0, 1, 0]\n",
      "[ 638.44814341  849.93085787 1119.9078105  1359.87708067  479.83610755]\n"
     ]
    }
   ],
   "source": [
    "is_value_changed = True\n",
    "iterations = 0\n",
    "while is_value_changed:\n",
    "    is_value_changed = False\n",
    "    iterations += 1\n",
    "    # run value iteration for each state\n",
    "    for s in range(N_STATES):\n",
    "        V[s] = sum([P[s,policy[s],s1] * (R[s,policy[s],s1] + gamma*V[s1]) for s1 in range(N_STATES)])\n",
    "        # print \"Run for state\", s\n",
    "\n",
    "    for s in range(N_STATES):\n",
    "        q_best = V[s]\n",
    "        # print \"State\", s, \"q_best\", q_best\n",
    "\n",
    "    for a in range(N_ACTIONS):\n",
    "        q_sa = sum([P[s, a, s1] * (R[s, a, s1] + gamma * V[s1]) for s1 in range(N_STATES)])\n",
    "        if q_sa > q_best:\n",
    "            print (\"State\", s, \": q_sa\", q_sa, \"q_best\", q_best)\n",
    "            policy[s] = a\n",
    "            q_best = q_sa\n",
    "            is_value_changed = True\n",
    "\n",
    "    print (\"Iterations:\", iterations)\n",
    "    # print \"Policy now\", policy\n",
    "\n",
    "print (\"Final policy\")\n",
    "print (policy)\n",
    "print (V)"
   ]
  }
 ],
 "metadata": {
  "kernelspec": {
   "display_name": "Python 3.9.7 ('base')",
   "language": "python",
   "name": "python3"
  },
  "language_info": {
   "codemirror_mode": {
    "name": "ipython",
    "version": 3
   },
   "file_extension": ".py",
   "mimetype": "text/x-python",
   "name": "python",
   "nbconvert_exporter": "python",
   "pygments_lexer": "ipython3",
   "version": "3.9.7"
  },
  "orig_nbformat": 4,
  "vscode": {
   "interpreter": {
    "hash": "6eacd28f0dae3b9224e3ddc287b654618669d50cd64a9295be68c352915a33c9"
   }
  }
 },
 "nbformat": 4,
 "nbformat_minor": 2
}
