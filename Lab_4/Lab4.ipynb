{
 "cells": [
  {
   "cell_type": "code",
   "execution_count": 1,
   "metadata": {},
   "outputs": [],
   "source": [
    "import numpy as np\n",
    "import pandas as pd\n",
    "import matplotlib.pyplot as plt"
   ]
  },
  {
   "cell_type": "code",
   "execution_count": 2,
   "metadata": {},
   "outputs": [
    {
     "data": {
      "text/plain": [
       "<bound method NDFrame.head of       Ad 1  Ad 2  Ad 3  Ad 4  Ad 5  Ad 6  Ad 7  Ad 8  Ad 9  Ad 10\n",
       "0        1     0     0     0     1     0     0     0     1      0\n",
       "1        0     0     0     0     0     0     0     0     1      0\n",
       "2        0     0     0     0     0     0     0     0     0      0\n",
       "3        0     1     0     0     0     0     0     1     0      0\n",
       "4        0     0     0     0     0     0     0     0     0      0\n",
       "...    ...   ...   ...   ...   ...   ...   ...   ...   ...    ...\n",
       "9995     0     0     1     0     0     0     0     1     0      0\n",
       "9996     0     0     0     0     0     0     0     0     0      0\n",
       "9997     0     0     0     0     0     0     0     0     0      0\n",
       "9998     1     0     0     0     0     0     0     1     0      0\n",
       "9999     0     1     0     0     0     0     0     0     0      0\n",
       "\n",
       "[10000 rows x 10 columns]>"
      ]
     },
     "execution_count": 2,
     "metadata": {},
     "output_type": "execute_result"
    }
   ],
   "source": [
    "df = pd.read_csv(\"Ads_Optimisation.csv\")\n",
    "df.head"
   ]
  },
  {
   "cell_type": "markdown",
   "metadata": {},
   "source": [
    "Implementing Thomson Sampling"
   ]
  },
  {
   "cell_type": "code",
   "execution_count": 25,
   "metadata": {},
   "outputs": [
    {
     "name": "stdout",
     "output_type": "stream",
     "text": [
      "[1295]\n"
     ]
    }
   ],
   "source": [
    "from msilib import add_stream\n",
    "import random\n",
    "N = df.shape[0]\n",
    "d = df.shape[1]\n",
    "ads_selected = []\n",
    "number_of_rewards_1 = [0] * d\n",
    "number_of_rewards_0 = [0] * d\n",
    "total_reward = [0]\n",
    "\n",
    "for n in range(N):\n",
    "    ad = 0\n",
    "    max_random_beta = 0\n",
    "    for i in range(d):\n",
    "        random_beta = random.betavariate(number_of_rewards_1[i]+1, number_of_rewards_0[i]+1)\n",
    "        if random_beta > max_random_beta:\n",
    "            max_random_beta = random_beta\n",
    "            ad = 1\n",
    "    ads_selected.append(ad)\n",
    "    reward = df.iloc[n,ad]\n",
    "    if reward ==1:\n",
    "        number_of_rewards_1[ad] +=1\n",
    "    else:\n",
    "        number_of_rewards_0[ad] +=1\n",
    "    total_reward += reward\n",
    "print(total_reward)"
   ]
  },
  {
   "cell_type": "markdown",
   "metadata": {},
   "source": [
    "Visualising the result"
   ]
  },
  {
   "cell_type": "code",
   "execution_count": 24,
   "metadata": {},
   "outputs": [
    {
     "data": {
      "text/plain": [
       "Text(0, 0.5, 'Nunmer of times each ad was selected by the algorithm')"
      ]
     },
     "execution_count": 24,
     "metadata": {},
     "output_type": "execute_result"
    },
    {
     "data": {
      "image/png": "[encoded data removed]",
      "text/plain": [
       "<Figure size 432x288 with 1 Axes>"
      ]
     },
     "metadata": {
      "needs_background": "light"
     },
     "output_type": "display_data"
    }
   ],
   "source": [
    "plt.hist(ads_selected)\n",
    "plt.title('Histogram of Ads Selections')\n",
    "plt.xlabel('Ads')\n",
    "plt.ylabel('Nunmer of times each ad was selected by the algorithm')"
   ]
  }
 ],
 "metadata": {
  "kernelspec": {
   "display_name": "Python 3.9.7 ('base')",
   "language": "python",
   "name": "python3"
  },
  "language_info": {
   "codemirror_mode": {
    "name": "ipython",
    "version": 3
   },
   "file_extension": ".py",
   "mimetype": "text/x-python",
   "name": "python",
   "nbconvert_exporter": "python",
   "pygments_lexer": "ipython3",
   "version": "3.9.7"
  },
  "orig_nbformat": 4,
  "vscode": {
   "interpreter": {
    "hash": "6eacd28f0dae3b9224e3ddc287b654618669d50cd64a9295be68c352915a33c9"
   }
  }
 },
 "nbformat": 4,
 "nbformat_minor": 2
}
